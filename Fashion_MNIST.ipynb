{
  "cells": [
    {
      "cell_type": "code",
      "execution_count": 162,
      "metadata": {
        "id": "3rxJI6mYHWD7"
      },
      "outputs": [],
      "source": [
        "import torch\n",
        "import torchvision\n",
        "import torchvision.transforms as transforms\n",
        "import torch.nn.functional as F\n",
        "import pandas as pd"
      ]
    },
    {
      "cell_type": "code",
      "execution_count": 163,
      "metadata": {
        "id": "fTJjMN5jZBAf"
      },
      "outputs": [],
      "source": [
        "train_set = torchvision.datasets.FashionMNIST(\n",
        "    root='./data/FashionMNIST',\n",
        "    train=True,\n",
        "    download=True,\n",
        "    transform=transforms.Compose([\n",
        "        transforms.ToTensor()\n",
        "        ])\n",
        "    )"
      ]
    },
    {
      "cell_type": "markdown",
      "metadata": {
        "id": "GPVTIG2SZBAh"
      },
      "source": [
        "---\n",
        "**The dataset is balanced, we can see this in following cells**"
      ]
    },
    {
      "cell_type": "code",
      "execution_count": 164,
      "metadata": {
        "id": "a-hEQUAKZBAj"
      },
      "outputs": [],
      "source": [
        "import numpy as np\n",
        "import matplotlib.pyplot as plt\n",
        "\n",
        "torch.set_printoptions(linewidth=120)"
      ]
    },
    {
      "cell_type": "code",
      "execution_count": 165,
      "metadata": {
        "id": "lUF83FQNZBAj",
        "outputId": "2ae2045d-9aec-4cc4-e66f-b5024c9503b6"
      },
      "outputs": [
        {
          "data": {
            "text/plain": [
              "60000"
            ]
          },
          "execution_count": 165,
          "metadata": {},
          "output_type": "execute_result"
        }
      ],
      "source": [
        "len(train_set)"
      ]
    },
    {
      "cell_type": "code",
      "execution_count": 166,
      "metadata": {
        "id": "cit6sWVaZBAk",
        "outputId": "328d24e7-d442-43e1-82df-762aa581a417"
      },
      "outputs": [
        {
          "data": {
            "text/plain": [
              "tensor([9, 0, 0,  ..., 3, 0, 5])"
            ]
          },
          "execution_count": 166,
          "metadata": {},
          "output_type": "execute_result"
        }
      ],
      "source": [
        "train_set.targets # new version of train_labels"
      ]
    },
    {
      "cell_type": "code",
      "execution_count": 167,
      "metadata": {
        "id": "HXQi13kOZBAl",
        "outputId": "33efc539-383f-4c51-bfc8-477bcf06f09f"
      },
      "outputs": [
        {
          "data": {
            "text/plain": [
              "tensor([6000, 6000, 6000, 6000, 6000, 6000, 6000, 6000, 6000, 6000])"
            ]
          },
          "execution_count": 167,
          "metadata": {},
          "output_type": "execute_result"
        }
      ],
      "source": [
        "train_set.targets.bincount()"
      ]
    },
    {
      "cell_type": "markdown",
      "metadata": {
        "id": "BMJc2VOrZBAm"
      },
      "source": [
        "---"
      ]
    },
    {
      "cell_type": "code",
      "execution_count": 168,
      "metadata": {
        "id": "hNDgc8VvZBAn"
      },
      "outputs": [],
      "source": [
        "image, label = next(iter(train_set))\n"
      ]
    },
    {
      "cell_type": "code",
      "execution_count": 169,
      "metadata": {
        "id": "evgGykQzZBAo",
        "outputId": "7ee9649a-dcce-4cd0-f31e-5685ace1f611"
      },
      "outputs": [
        {
          "data": {
            "text/plain": [
              "torch.Size([1, 28, 28])"
            ]
          },
          "execution_count": 169,
          "metadata": {},
          "output_type": "execute_result"
        }
      ],
      "source": [
        "image.shape"
      ]
    },
    {
      "cell_type": "code",
      "execution_count": 170,
      "metadata": {
        "colab": {
          "base_uri": "https://localhost:8080/",
          "height": 215
        },
        "id": "S-qXLQozZBAp",
        "outputId": "e475e12e-882d-41fa-b128-f60c667646ff"
      },
      "outputs": [
        {
          "name": "stdout",
          "output_type": "stream",
          "text": [
            "label: 9\n"
          ]
        },
        {
          "data": {
            "image/png": "[encoded data removed]",
            "text/plain": [
              "<Figure size 432x288 with 1 Axes>"
            ]
          },
          "metadata": {
            "needs_background": "light"
          },
          "output_type": "display_data"
        }
      ],
      "source": [
        "\n",
        "plt.axis('off')\n",
        "plt.imshow(image.squeeze(), cmap='gray')\n",
        "print('label:', label)"
      ]
    },
    {
      "cell_type": "code",
      "execution_count": 171,
      "metadata": {
        "id": "xzQCfzVJZBAq"
      },
      "outputs": [],
      "source": [
        "train_loader=torch.utils.data.DataLoader(train_set, batch_size=10)"
      ]
    },
    {
      "cell_type": "code",
      "execution_count": 172,
      "metadata": {
        "id": "gApRSlnzZBAr"
      },
      "outputs": [],
      "source": [
        "batch = next(iter(train_loader))\n",
        "images, labels = batch"
      ]
    },
    {
      "cell_type": "code",
      "execution_count": 173,
      "metadata": {
        "id": "IyDf0UsKZBAr",
        "outputId": "1baa359c-0355-4b7f-984c-a9f3c8e1d5e7"
      },
      "outputs": [
        {
          "data": {
            "text/plain": [
              "torch.Size([10, 1, 28, 28])"
            ]
          },
          "execution_count": 173,
          "metadata": {},
          "output_type": "execute_result"
        }
      ],
      "source": [
        "images.shape"
      ]
    },
    {
      "cell_type": "code",
      "execution_count": 174,
      "metadata": {
        "id": "koBFfiA6ZBAs",
        "outputId": "bbf5f2d0-17a7-4860-dabb-3dbdecd684ab"
      },
      "outputs": [
        {
          "data": {
            "text/plain": [
              "torch.Size([10])"
            ]
          },
          "execution_count": 174,
          "metadata": {},
          "output_type": "execute_result"
        }
      ],
      "source": [
        "labels.shape"
      ]
    },
    {
      "cell_type": "code",
      "execution_count": 175,
      "metadata": {
        "id": "ZT26OxjrZBAt",
        "outputId": "bc1a34ce-5dee-43d3-8d34-4702bcdc24c2"
      },
      "outputs": [
        {
          "name": "stdout",
          "output_type": "stream",
          "text": [
            "labels:  tensor([9, 0, 0, 3, 0, 2, 7, 2, 5, 5])\n"
          ]
        },
        {
          "data": {
            "image/png": "[encoded data removed]",
            "text/plain": [
              "<Figure size 1080x1080 with 1 Axes>"
            ]
          },
          "metadata": {
            "needs_background": "light"
          },
          "output_type": "display_data"
        }
      ],
      "source": [
        "grid = torchvision.utils.make_grid(images, nrow=10)\n",
        "\n",
        "plt.figure(figsize=(15,15))\n",
        "plt.axis('off')\n",
        "plt.imshow(np.transpose(grid, (1,2,0)))\n",
        "\n",
        "print('labels: ', labels)\n"
      ]
    },
    {
      "cell_type": "markdown",
      "metadata": {
        "id": "TKqwUxvYZBAu"
      },
      "source": [
        "## How to build Neural Network in Python\n",
        "Build a neural network in PyTorch\n",
        "1. Extend the *nn.Module* base class.\n",
        "2. Define layers as class attributes.\n",
        "3. Implement the *forward()* method. "
      ]
    },
    {
      "cell_type": "code",
      "execution_count": 176,
      "metadata": {
        "id": "nS28HnOhZBAv"
      },
      "outputs": [],
      "source": [
        "class Network:\n",
        "    def __init__(self):\n",
        "        self.layer = None\n",
        "    \n",
        "    def forward(self, t):\n",
        "        t = self.layer(t)\n",
        "        return t"
      ]
    },
    {
      "cell_type": "code",
      "execution_count": 177,
      "metadata": {
        "id": "peI6pSonZBAv"
      },
      "outputs": [],
      "source": [
        "import torch.nn as nn"
      ]
    },
    {
      "cell_type": "code",
      "execution_count": 178,
      "metadata": {
        "id": "BCiqUWlHZBAw"
      },
      "outputs": [],
      "source": [
        "class Network(nn.Module): # line 1\n",
        "    def __init__(self):\n",
        "        super(Network, self).__init__() # line 3\n",
        "        # Input layer correspond to f(x) = x so it's implicit \n",
        "        self.conv1 = nn.Conv2d(in_channels=1, out_channels=6, kernel_size=5) # out_channels --> features_map\n",
        "        self.conv2 = nn.Conv2d(in_channels=6, out_channels=12, kernel_size=5) # out_channels --> features_map\n",
        "\n",
        "        self.fc1 = nn.Linear(in_features=12*4*4, out_features=120) # Fully Connected\n",
        "        self.fc2 = nn.Linear(in_features=120, out_features=60) # Fully Connected\n",
        "\n",
        "        self.out = nn.Linear(in_features=60, out_features=10)\n",
        "\n",
        "    # In this function we need to define how layare communicates eachother\n",
        "    def forward(self, t):\n",
        "        # (1) Input layer\n",
        "        t = t \n",
        "       \n",
        "        # (2) hidden conv layer\n",
        "        t = self.conv1(t)\n",
        "        t = F.relu(t)\n",
        "        t = F.max_pool2d(t, kernel_size=2, stride=2)\n",
        "        \n",
        "        # (3) hidden conv layer\n",
        "        t = self.conv2(t)\n",
        "        t = F.relu(t)\n",
        "        t = F.max_pool2d(t, kernel_size=2, stride=2)\n",
        "        \n",
        "        # (4) hidden linear Layer\n",
        "        t = t.reshape(-1, 12 * 4 * 4)\n",
        "        t = self.fc1(t)\n",
        "        t = F.relu(t)\n",
        "        \n",
        "        # (5) hidden linear Layer\n",
        "        t = self.fc2(t)\n",
        "        t = F.relu(t)\n",
        "        \n",
        "        # (6) output layer\n",
        "        t = self.out(t)\n",
        "        #t = F.softmax(t, dim=1)\n",
        "        return t\n"
      ]
    },
    {
      "cell_type": "code",
      "execution_count": 179,
      "metadata": {
        "id": "EVR_DBFLZBAx",
        "outputId": "47a37605-3503-4cad-b8e2-a0b9f0f73187"
      },
      "outputs": [
        {
          "data": {
            "text/plain": [
              "Network(\n",
              "  (conv1): Conv2d(1, 6, kernel_size=(5, 5), stride=(1, 1))\n",
              "  (conv2): Conv2d(6, 12, kernel_size=(5, 5), stride=(1, 1))\n",
              "  (fc1): Linear(in_features=192, out_features=120, bias=True)\n",
              "  (fc2): Linear(in_features=120, out_features=60, bias=True)\n",
              "  (out): Linear(in_features=60, out_features=10, bias=True)\n",
              ")"
            ]
          },
          "execution_count": 179,
          "metadata": {},
          "output_type": "execute_result"
        }
      ],
      "source": [
        "nt = Network()\n",
        "nt"
      ]
    },
    {
      "cell_type": "markdown",
      "metadata": {
        "id": "2SQdq9SqZBAx"
      },
      "source": [
        "**We can access at all weight of the network with this command**"
      ]
    },
    {
      "cell_type": "code",
      "execution_count": 180,
      "metadata": {
        "id": "9VAMJRnTZBAz",
        "outputId": "2f0eb1cc-7b1b-4f36-be0d-8964bf958d79"
      },
      "outputs": [
        {
          "data": {
            "text/plain": [
              "Parameter containing:\n",
              "tensor([[[[-6.6487e-02, -1.2520e-01, -1.3090e-01,  5.7080e-02,  6.3992e-02],\n",
              "          [-1.6310e-01,  1.5710e-01,  8.5196e-02,  1.4902e-01,  8.6579e-02],\n",
              "          [-5.1363e-02, -8.7064e-02, -1.9022e-01,  1.1060e-01, -2.3465e-02],\n",
              "          [-4.7620e-02, -1.0313e-01, -1.5768e-01, -1.3829e-01, -1.7069e-01],\n",
              "          [ 1.6657e-01,  1.8082e-01, -9.2087e-03,  1.8181e-01, -1.8325e-01]]],\n",
              "\n",
              "\n",
              "        [[[-1.4560e-01,  1.1587e-01,  1.4237e-01, -1.5051e-02, -1.7673e-01],\n",
              "          [ 1.3198e-01,  1.8545e-01,  2.6446e-02,  1.5152e-04,  2.4853e-02],\n",
              "          [-5.8121e-02, -1.9715e-01, -1.4446e-01,  1.9191e-02,  1.6903e-01],\n",
              "          [-2.3228e-02,  1.3333e-01,  1.6948e-01, -1.2930e-01,  1.2222e-01],\n",
              "          [ 6.2178e-02,  1.6330e-01, -1.4243e-01, -6.4304e-02, -9.5943e-02]]],\n",
              "\n",
              "\n",
              "        [[[ 1.4679e-01, -1.1508e-01, -1.5975e-01,  5.4409e-03, -8.7104e-02],\n",
              "          [-5.5827e-02,  7.0327e-02, -1.5870e-01,  2.2033e-03, -7.1128e-02],\n",
              "          [ 5.0664e-02, -9.5322e-02,  4.5818e-02, -1.8692e-01, -1.6557e-01],\n",
              "          [ 3.2597e-02, -1.4801e-01,  7.7941e-02, -5.8668e-02, -1.1464e-01],\n",
              "          [-6.6403e-02, -7.1022e-02,  1.5886e-01, -1.5690e-01, -1.1201e-01]]],\n",
              "\n",
              "\n",
              "        [[[-1.2820e-02, -2.3990e-02,  2.6586e-02, -4.3926e-02, -1.9167e-01],\n",
              "          [-8.6032e-02, -1.3253e-02,  1.6296e-01,  6.1755e-02, -1.8180e-01],\n",
              "          [ 4.2852e-02,  1.1729e-01,  1.7346e-01, -1.2913e-01, -1.0866e-01],\n",
              "          [-1.1698e-01, -1.0985e-01,  7.6795e-02, -3.1155e-02, -4.3470e-02],\n",
              "          [-1.0916e-01, -2.8913e-02,  1.4168e-01,  3.6087e-02, -8.6378e-02]]],\n",
              "\n",
              "\n",
              "        [[[ 1.3862e-01,  7.7554e-02, -1.7508e-01,  1.5285e-01,  1.9398e-01],\n",
              "          [ 6.4410e-03, -7.1427e-02,  1.7066e-02,  1.7757e-01, -1.0538e-01],\n",
              "          [ 1.7807e-01,  1.8147e-01, -1.9897e-01,  7.1614e-03, -1.3432e-01],\n",
              "          [ 8.7575e-02, -8.3520e-02,  4.9181e-02, -1.6123e-01,  1.4539e-01],\n",
              "          [-3.3187e-02,  1.4414e-01,  1.7193e-01, -1.8559e-01,  1.6312e-01]]],\n",
              "\n",
              "\n",
              "        [[[ 1.4984e-01, -3.6912e-02, -2.1721e-02,  1.8041e-01, -6.3988e-02],\n",
              "          [-2.8553e-02,  7.7436e-03, -8.5815e-02, -7.4980e-02, -1.8189e-01],\n",
              "          [-1.0417e-01, -6.6590e-02,  1.1600e-01,  6.9721e-02, -5.0578e-02],\n",
              "          [ 1.6123e-01, -1.0635e-01,  1.4158e-01,  1.2125e-01, -9.5956e-02],\n",
              "          [ 1.9286e-01,  7.4650e-02, -4.3788e-02,  7.4022e-02,  1.5655e-01]]]], requires_grad=True)"
            ]
          },
          "execution_count": 180,
          "metadata": {},
          "output_type": "execute_result"
        }
      ],
      "source": [
        "nt.conv1.weight # Only weight of frist convolutional layer"
      ]
    },
    {
      "cell_type": "markdown",
      "metadata": {
        "id": "_S30hDfOZBA0"
      },
      "source": [
        "The shape of the tensor is showing below. \n",
        "- The first axis of the tensor is *out_channels* ( or ***features map*** ); \n",
        "- The second axis of the tensor is *in_channels* ( or ***number of input in a layer***);\n",
        "- The third and the fourth axis of the tensor is **width** and **height** of image."
      ]
    },
    {
      "cell_type": "code",
      "execution_count": 181,
      "metadata": {
        "id": "fdgddnCmZBA0",
        "outputId": "19596b3e-5181-401e-c9d2-f3ea08878bbb"
      },
      "outputs": [
        {
          "name": "stdout",
          "output_type": "stream",
          "text": [
            "Shape of the weight Tensor:  torch.Size([6, 1, 5, 5])\n"
          ]
        }
      ],
      "source": [
        "print(f'Shape of the weight Tensor: ', nt.conv1.weight.shape)"
      ]
    },
    {
      "cell_type": "markdown",
      "metadata": {
        "id": "RWd56MnIZBA1"
      },
      "source": [
        "# Neural Network Implementation"
      ]
    },
    {
      "cell_type": "code",
      "execution_count": 182,
      "metadata": {
        "id": "lvOkZuSoZBA2"
      },
      "outputs": [],
      "source": [
        "import torch\n",
        "import torch.nn as nn\n",
        "import torch.nn.functional as F\n",
        "\n",
        "import torchvision\n",
        "import torchvision.transforms as transforms\n",
        "\n",
        "torch.set_printoptions(linewidth=120)"
      ]
    },
    {
      "cell_type": "code",
      "execution_count": 183,
      "metadata": {
        "id": "s42zywr8ZBA2"
      },
      "outputs": [],
      "source": [
        "train_set = torchvision.datasets.FashionMNIST(\n",
        "    root='./data/FashionMNIST',\n",
        "    train=True,\n",
        "    download=True,\n",
        "    transform=transforms.Compose([\n",
        "        transforms.ToTensor()\n",
        "        ])\n",
        "    )\n",
        "\n",
        "##sdmsakdmaskdlskajdsakjdksajdsajkdjskdjlsajdaksj"
      ]
    },
    {
      "cell_type": "code",
      "execution_count": 184,
      "metadata": {
        "id": "UNoy80wbZBA3"
      },
      "outputs": [],
      "source": [
        "class Network(nn.Module): # line 1\n",
        "    def __init__(self):\n",
        "        super(Network, self).__init__() # line 3\n",
        "        # Input layer correspond to f(x) = x so it's implicit \n",
        "        self.conv1 = nn.Conv2d(in_channels=1, out_channels=6, kernel_size=5) # out_channels --> features_map\n",
        "        self.conv2 = nn.Conv2d(in_channels=6, out_channels=12, kernel_size=5) # out_channels --> features_map\n",
        "\n",
        "        self.fc1 = nn.Linear(in_features=12*4*4, out_features=120) # Fully Connected\n",
        "        self.fc2 = nn.Linear(in_features=120, out_features=60) # Fully Connected\n",
        "\n",
        "        self.out = nn.Linear(in_features=60, out_features=10)\n",
        "\n",
        "    # In this function we need to define how layare communicates eachother\n",
        "    def forward(self, t):\n",
        "        # (1) Input layer ( can be omit)\n",
        "        t = t \n",
        "       \n",
        "        # (2) hidden conv layer\n",
        "        t = F.relu(self.conv1(t))\n",
        "        t = F.max_pool2d(t, kernel_size=2, stride=2)\n",
        "        \n",
        "        # (3) hidden conv layer\n",
        "        t = F.relu(self.conv2(t))\n",
        "        t = F.max_pool2d(t, kernel_size=2, stride=2)\n",
        "        \n",
        "        # (4) hidden linear Layer\n",
        "        t = self.fc1(t.reshape(-1, 12 * 4 * 4))\n",
        "        t = F.relu(t)\n",
        "        \n",
        "        # (5) hidden linear Layer\n",
        "        t = F.relu(self.fc2(t))\n",
        "        \n",
        "        # (6) output layer\n",
        "        t = self.out(t)\n",
        "      \n",
        "        #t = F.softmax(t, dim=1)\n",
        "        return t"
      ]
    },
    {
      "cell_type": "code",
      "execution_count": 185,
      "metadata": {
        "id": "bK7y6r9sZBA3",
        "outputId": "d7b6bdfb-85ff-4a49-c918-7855159493ad"
      },
      "outputs": [
        {
          "data": {
            "text/plain": [
              "<torch.autograd.grad_mode.set_grad_enabled at 0x11a6adf60>"
            ]
          },
          "execution_count": 185,
          "metadata": {},
          "output_type": "execute_result"
        }
      ],
      "source": [
        "torch.set_grad_enabled(False)"
      ]
    },
    {
      "cell_type": "code",
      "execution_count": 186,
      "metadata": {
        "id": "uwQgTRfAZBA4"
      },
      "outputs": [],
      "source": [
        "network = Network()"
      ]
    },
    {
      "cell_type": "code",
      "execution_count": 187,
      "metadata": {
        "id": "oZKMwNOHZBA4"
      },
      "outputs": [],
      "source": [
        "sample = next(iter(train_set))"
      ]
    },
    {
      "cell_type": "code",
      "execution_count": 188,
      "metadata": {
        "id": "63VbCQ03ZBA5",
        "outputId": "bc98e1d0-7c85-46fd-d77a-ac247df359ae"
      },
      "outputs": [
        {
          "data": {
            "text/plain": [
              "torch.Size([1, 1, 28, 28])"
            ]
          },
          "execution_count": 188,
          "metadata": {},
          "output_type": "execute_result"
        }
      ],
      "source": [
        "image, label = sample\n",
        "image.shape\n",
        "image = image.unsqueeze(0)\n",
        "image.shape"
      ]
    },
    {
      "cell_type": "code",
      "execution_count": 189,
      "metadata": {
        "id": "L8n2l7WyZBA5",
        "outputId": "c669d055-067f-4b73-93c0-e6fd73c70416"
      },
      "outputs": [
        {
          "data": {
            "text/plain": [
              "torch.Size([1, 10])"
            ]
          },
          "execution_count": 189,
          "metadata": {},
          "output_type": "execute_result"
        }
      ],
      "source": [
        "pred = network(image)\n",
        "pred.shape"
      ]
    },
    {
      "cell_type": "code",
      "execution_count": 190,
      "metadata": {
        "id": "fFE1LiCuZBA6",
        "outputId": "e75f7d0f-e33a-4ec5-ccc4-16544cfcb4cb"
      },
      "outputs": [
        {
          "name": "stdout",
          "output_type": "stream",
          "text": [
            "prediction: tensor([[ 0.0457, -0.0786, -0.0685, -0.1149,  0.0453,  0.0303, -0.0979, -0.1055, -0.1200,  0.0120]])\n",
            "label: 9\n",
            "index: 0\n"
          ]
        }
      ],
      "source": [
        "print(f'prediction: {pred}')\n",
        "print(f'label: {label}')\n",
        "print(rf'index: {pred.argmax(1)[0]}')"
      ]
    },
    {
      "cell_type": "code",
      "execution_count": 191,
      "metadata": {
        "id": "hvvsBgeUZBA6",
        "outputId": "807b75fb-13eb-4434-dd72-ab3ab1f605a6"
      },
      "outputs": [
        {
          "data": {
            "text/plain": [
              "tensor([[0.1093, 0.0965, 0.0975, 0.0931, 0.1092, 0.1076, 0.0947, 0.0939, 0.0926, 0.1057]])"
            ]
          },
          "execution_count": 191,
          "metadata": {},
          "output_type": "execute_result"
        }
      ],
      "source": [
        "# Softmax function remap value of the array between [0,1]\n",
        "F.softmax(pred, dim=1)"
      ]
    },
    {
      "cell_type": "markdown",
      "metadata": {
        "id": "Z6xCMbjeZBA7"
      },
      "source": [
        "# Batch Processing \n",
        "Pass image batch to PyTorch CNN"
      ]
    },
    {
      "cell_type": "code",
      "execution_count": 192,
      "metadata": {
        "id": "Ff7D9bGdZBA8"
      },
      "outputs": [],
      "source": [
        "import torch\n",
        "import torch.nn as nn\n",
        "import torch.nn.functional as F\n",
        "\n",
        "import torchvision\n",
        "import torchvision.transforms as transforms\n",
        "\n",
        "from torchinfo import summary\n",
        "\n",
        "torch.set_printoptions(linewidth=120)"
      ]
    },
    {
      "cell_type": "code",
      "execution_count": 193,
      "metadata": {
        "id": "TP3hu8WbZBA8",
        "outputId": "034e6b51-c22c-41b6-c846-e7c349506aa8"
      },
      "outputs": [
        {
          "name": "stdout",
          "output_type": "stream",
          "text": [
            "torch: 1.11.0\n",
            "torchvision: 0.12.0\n"
          ]
        }
      ],
      "source": [
        "print('torch:', torch.__version__)\n",
        "print('torchvision:', torchvision.__version__)"
      ]
    },
    {
      "cell_type": "code",
      "execution_count": 194,
      "metadata": {
        "id": "ao_U6nz5ZBA9"
      },
      "outputs": [],
      "source": [
        "train_set = torchvision.datasets.FashionMNIST(\n",
        "    root='./data/FashionMNIST',\n",
        "    train=True,\n",
        "    download=True,\n",
        "    transform=transforms.Compose([\n",
        "        transforms.ToTensor()\n",
        "        ])\n",
        "    )"
      ]
    },
    {
      "cell_type": "code",
      "execution_count": 195,
      "metadata": {
        "id": "ghvIXKwvZBA9"
      },
      "outputs": [],
      "source": [
        "class Network(nn.Module):\n",
        "    def __init__(self):\n",
        "        super().__init__()\n",
        "        \n",
        "        self.conv1 = nn.Conv2d(in_channels=1, out_channels=6, kernel_size=5) \n",
        "        self.conv2 = nn.Conv2d(in_channels=6, out_channels=12, kernel_size=5) \n",
        "\n",
        "        self.fc1 = nn.Linear(in_features=12*4*4, out_features=120)\n",
        "        self.fc2 = nn.Linear(in_features=120, out_features=60) \n",
        "\n",
        "        self.out = nn.Linear(in_features=60, out_features=10)\n",
        "\n",
        "    def forward(self, t):       \n",
        "        t = F.relu(self.conv1(t))\n",
        "        t = F.max_pool2d(t, kernel_size=2, stride=2)\n",
        "  \n",
        "        t = F.relu(self.conv2(t))\n",
        "        t = F.max_pool2d(t, kernel_size=2, stride=2)\n",
        "  \n",
        "        t = F.relu(self.fc1(t.reshape(-1, 12 * 4 * 4)))\n",
        "    \n",
        "        t = F.relu(self.fc2(t))\n",
        "        \n",
        "        t = self.out(t)\n",
        "        \n",
        "        return t"
      ]
    },
    {
      "cell_type": "code",
      "execution_count": 196,
      "metadata": {
        "id": "pgosOrf8ZBA-"
      },
      "outputs": [],
      "source": [
        "torch.set_grad_enabled(False);"
      ]
    },
    {
      "cell_type": "code",
      "execution_count": 197,
      "metadata": {
        "id": "zsxqrbKaZBA-"
      },
      "outputs": [],
      "source": [
        "network = Network()"
      ]
    },
    {
      "cell_type": "code",
      "execution_count": 198,
      "metadata": {
        "id": "b6GxAqBiZBA_"
      },
      "outputs": [],
      "source": [
        "batch_size = 10\n",
        "data_loader = torch.utils.data.DataLoader(\n",
        "  train_set,\n",
        "  batch_size=batch_size\n",
        ")"
      ]
    },
    {
      "cell_type": "code",
      "execution_count": 199,
      "metadata": {
        "id": "WFZL7pnyZBA_"
      },
      "outputs": [],
      "source": [
        "batch = next(iter(data_loader))\n",
        "images, labels = batch"
      ]
    },
    {
      "cell_type": "code",
      "execution_count": 200,
      "metadata": {
        "id": "d6znKwfWZBBB",
        "outputId": "9b2d46db-7dcc-4564-b176-4769a99f2ee7"
      },
      "outputs": [
        {
          "name": "stdout",
          "output_type": "stream",
          "text": [
            "torch.Size([10, 1, 28, 28])\n",
            "torch.Size([10])\n"
          ]
        }
      ],
      "source": [
        "print(images.shape) # We have already the batch, so we don't need to unsqueeze\n",
        "print(labels.shape)"
      ]
    },
    {
      "cell_type": "code",
      "execution_count": 241,
      "metadata": {
        "id": "kh01zGfGZBBB",
        "outputId": "f02d3561-fc94-4907-baab-d455f98658b6"
      },
      "outputs": [
        {
          "data": {
            "text/plain": [
              "torch.Size([100, 10])"
            ]
          },
          "execution_count": 241,
          "metadata": {},
          "output_type": "execute_result"
        }
      ],
      "source": [
        "preds = network(images)\n",
        "preds.shape # We have 10x10 tensor, because we have 10 prediction for 10 classes of clothes"
      ]
    },
    {
      "cell_type": "code",
      "execution_count": 202,
      "metadata": {
        "id": "txAAIvZRZBBC",
        "outputId": "efe991df-9dc1-4ff8-98d7-9f1a96535ef4"
      },
      "outputs": [
        {
          "name": "stdout",
          "output_type": "stream",
          "text": [
            "labels:             \t tensor([9, 0, 0, 3, 0, 2, 7, 2, 5, 5])\n",
            "predictions:        \t tensor([1, 1, 1, 1, 1, 1, 1, 1, 1, 1]) \n",
            "\n",
            "shape of predictions:\t torch.Size([10])\n"
          ]
        }
      ],
      "source": [
        "print('labels:             \\t',labels)\n",
        "print('predictions:        \\t',preds.argmax(dim=1),'\\n')\n",
        "print('shape of predictions:\\t',preds.argmax(dim=1).shape)"
      ]
    },
    {
      "cell_type": "code",
      "execution_count": 203,
      "metadata": {
        "id": "wEepWMb9ZBBD"
      },
      "outputs": [],
      "source": [
        "def get_num_correct(pred, labels):\n",
        "  return preds.argmax(dim=1).eq(labels).type(torch.uint8)"
      ]
    },
    {
      "cell_type": "code",
      "execution_count": 204,
      "metadata": {
        "id": "85sso4SuZBBD",
        "outputId": "508b684e-7f49-4e05-f266-d2211c4547b1"
      },
      "outputs": [
        {
          "data": {
            "text/plain": [
              "tensor([0, 0, 0, 0, 0, 0, 0, 0, 0, 0], dtype=torch.uint8)"
            ]
          },
          "execution_count": 204,
          "metadata": {},
          "output_type": "execute_result"
        }
      ],
      "source": [
        "get_num_correct(preds, labels)"
      ]
    },
    {
      "cell_type": "code",
      "execution_count": 205,
      "metadata": {
        "id": "fQEzf_dUZBBE",
        "outputId": "c3ddb53f-2f9b-44d4-d54e-9546aa5b95e9"
      },
      "outputs": [
        {
          "data": {
            "text/plain": [
              "==========================================================================================\n",
              "Layer (type:depth-idx)                   Output Shape              Param #\n",
              "==========================================================================================\n",
              "Network                                  --                        --\n",
              "├─Conv2d: 1-1                            [10, 6, 24, 24]           156\n",
              "├─Conv2d: 1-2                            [10, 12, 8, 8]            1,812\n",
              "├─Linear: 1-3                            [10, 120]                 23,160\n",
              "├─Linear: 1-4                            [10, 60]                  7,260\n",
              "├─Linear: 1-5                            [10, 10]                  610\n",
              "==========================================================================================\n",
              "Total params: 32,998\n",
              "Trainable params: 32,998\n",
              "Non-trainable params: 0\n",
              "Total mult-adds (M): 2.37\n",
              "==========================================================================================\n",
              "Input size (MB): 0.03\n",
              "Forward/backward pass size (MB): 0.35\n",
              "Params size (MB): 0.13\n",
              "Estimated Total Size (MB): 0.52\n",
              "=========================================================================================="
            ]
          },
          "execution_count": 205,
          "metadata": {},
          "output_type": "execute_result"
        }
      ],
      "source": [
        "summary(network, input_size=(batch_size, 1, 28, 28))"
      ]
    },
    {
      "cell_type": "markdown",
      "metadata": {},
      "source": [
        "# The Training Process\n",
        "1. Get batch from the training set\n",
        "2. Pass batch to network\n",
        "3. Calculate the loss (difference between the predicted values and the true values)\n",
        "4. Calculate the gradient of the loss function with respect to the network's weights.\n",
        "5. Update the weights using the gradients to reduce the loss\n",
        "6. Repeat steps 1-5 until one epoch is compled\n",
        "7. Repeat steps 1-6 for as many epochs required to obtain the desired level of accuracy"
      ]
    },
    {
      "cell_type": "code",
      "execution_count": 242,
      "metadata": {},
      "outputs": [],
      "source": [
        "import torch\n",
        "import torch.nn as nn\n",
        "import torch.nn.functional as F\n",
        "import torch.optim as optim\n",
        "\n",
        "import torchvision\n",
        "import torchvision.transforms as transforms\n",
        "\n",
        "from torchinfo import summary\n",
        "\n",
        "torch.set_printoptions(linewidth=120)\n",
        "torch.set_grad_enabled(True);"
      ]
    },
    {
      "cell_type": "code",
      "execution_count": 243,
      "metadata": {},
      "outputs": [
        {
          "name": "stdout",
          "output_type": "stream",
          "text": [
            "torch: 1.11.0\n",
            "torchvision: 0.12.0\n"
          ]
        }
      ],
      "source": [
        "print('torch:', torch.__version__)\n",
        "print('torchvision:', torchvision.__version__)"
      ]
    },
    {
      "cell_type": "code",
      "execution_count": 244,
      "metadata": {},
      "outputs": [],
      "source": [
        "def get_num_correct(pred, labels):\n",
        "  return preds.argmax(dim=1).eq(labels).sum()"
      ]
    },
    {
      "cell_type": "code",
      "execution_count": 245,
      "metadata": {},
      "outputs": [],
      "source": [
        "class Network(nn.Module):\n",
        "    def __init__(self):\n",
        "        super().__init__()\n",
        "        \n",
        "        self.conv1 = nn.Conv2d(in_channels=1, out_channels=6, kernel_size=5) \n",
        "        self.conv2 = nn.Conv2d(in_channels=6, out_channels=12, kernel_size=5) \n",
        "\n",
        "        self.fc1 = nn.Linear(in_features=12*4*4, out_features=120)\n",
        "        self.fc2 = nn.Linear(in_features=120, out_features=60) \n",
        "\n",
        "        self.out = nn.Linear(in_features=60, out_features=10)\n",
        "\n",
        "    def forward(self, t):       \n",
        "        t = F.relu(self.conv1(t))\n",
        "        t = F.max_pool2d(t, kernel_size=2, stride=2)\n",
        "  \n",
        "        t = F.relu(self.conv2(t))\n",
        "        t = F.max_pool2d(t, kernel_size=2, stride=2)\n",
        "  \n",
        "        t = F.relu(self.fc1(t.reshape(-1, 12 * 4 * 4)))\n",
        "    \n",
        "        t = F.relu(self.fc2(t))\n",
        "        \n",
        "        t = self.out(t)\n",
        "        \n",
        "        return t"
      ]
    },
    {
      "cell_type": "code",
      "execution_count": 246,
      "metadata": {},
      "outputs": [],
      "source": [
        "train_set = torchvision.datasets.FashionMNIST(\n",
        "    root='./data/FashionMNIST',\n",
        "    train=True,\n",
        "    download=True,\n",
        "    transform=transforms.Compose([\n",
        "        transforms.ToTensor()\n",
        "        ])\n",
        "    )"
      ]
    },
    {
      "cell_type": "code",
      "execution_count": 247,
      "metadata": {},
      "outputs": [],
      "source": [
        "cnn = Network()"
      ]
    },
    {
      "cell_type": "code",
      "execution_count": 248,
      "metadata": {},
      "outputs": [],
      "source": [
        "train_loader = torch.utils.data.DataLoader(train_set, batch_size=100)\n",
        "batch = next(iter(train_loader))\n",
        "images, labels = batch"
      ]
    },
    {
      "cell_type": "markdown",
      "metadata": {},
      "source": [
        "## Calculating the Loss \n",
        "\n",
        "$$ \\Large \\frac{1}{1+ {e}^{-w \\cdot x}} \\quad $$\n",
        "\n",
        "Where:\n",
        "- *w* is the weights vector\n",
        "- *x* is input vector"
      ]
    },
    {
      "cell_type": "code",
      "execution_count": 249,
      "metadata": {},
      "outputs": [
        {
          "data": {
            "text/plain": [
              "2.310542345046997"
            ]
          },
          "execution_count": 249,
          "metadata": {},
          "output_type": "execute_result"
        }
      ],
      "source": [
        "preds = cnn(images)\n",
        "loss = F.cross_entropy(preds, labels) # Compute the loss function\n",
        "loss.item()\n"
      ]
    },
    {
      "cell_type": "markdown",
      "metadata": {},
      "source": [
        "## Calculating the Gradients"
      ]
    },
    {
      "cell_type": "code",
      "execution_count": 250,
      "metadata": {},
      "outputs": [
        {
          "name": "stdout",
          "output_type": "stream",
          "text": [
            "None\n"
          ]
        }
      ],
      "source": [
        "print(cnn.conv1.weight.grad)"
      ]
    },
    {
      "cell_type": "code",
      "execution_count": 251,
      "metadata": {},
      "outputs": [
        {
          "data": {
            "text/plain": [
              "torch.Size([6, 1, 5, 5])"
            ]
          },
          "execution_count": 251,
          "metadata": {},
          "output_type": "execute_result"
        }
      ],
      "source": [
        "loss.backward() # Calculating the gradients\n",
        "cnn.conv1.weight.grad.shape"
      ]
    },
    {
      "cell_type": "markdown",
      "metadata": {},
      "source": [
        "## All in One Block"
      ]
    },
    {
      "cell_type": "code",
      "execution_count": 255,
      "metadata": {},
      "outputs": [
        {
          "name": "stdout",
          "output_type": "stream",
          "text": [
            "loss1: 2.299384593963623\n",
            "loss2: 2.299384593963623\n"
          ]
        },
        {
          "data": {
            "text/plain": [
              "tensor(15)"
            ]
          },
          "execution_count": 255,
          "metadata": {},
          "output_type": "execute_result"
        }
      ],
      "source": [
        "network = Network()\n",
        "\n",
        "train_loader = torch.utils.data.DataLoader(train_set, batch_size=100)\n",
        "optimizer = optim.Adam(network.parameters(), lr=0.01)\n",
        "\n",
        "batch = next(iter(train_loader))\n",
        "images, labels = batch\n",
        "\n",
        "preds = network(images)\n",
        "loss = F.cross_entropy(preds, labels)\n",
        "\n",
        "loss.backward()\n",
        "optimizer.step()\n",
        "\n",
        "# ----------------------------------------------\n",
        "\n",
        "print('loss1:', loss.item())\n",
        "preds = network(images)\n",
        "loss - F.cross_entropy(preds, labels)\n",
        "print('loss2:', loss.item())\n",
        "get_num_correct(preds, labels)\n"
      ]
    }
  ],
  "metadata": {
    "accelerator": "GPU",
    "colab": {
      "name": "Fashion-MNIST.ipynb",
      "provenance": []
    },
    "interpreter": {
      "hash": "aea9272325a171a037b7bf5e402638fb34f6a39358d7e6d387579d746e768223"
    },
    "kernelspec": {
      "display_name": "Python 3.10.4 64-bit ('3.10.4')",
      "language": "python",
      "name": "python3"
    },
    "language_info": {
      "codemirror_mode": {
        "name": "ipython",
        "version": 3
      },
      "file_extension": ".py",
      "mimetype": "text/x-python",
      "name": "python",
      "nbconvert_exporter": "python",
      "pygments_lexer": "ipython3",
      "version": "3.10.4"
    }
  },
  "nbformat": 4,
  "nbformat_minor": 0
}
